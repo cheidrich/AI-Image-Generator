{
 "cells": [
  {
   "cell_type": "code",
   "execution_count": 2,
   "id": "17a3012c",
   "metadata": {
    "scrolled": false
   },
   "outputs": [
    {
     "name": "stdout",
     "output_type": "stream",
     "text": [
      "Epoch [1/15], Loss: 0.8380\n",
      "Epoch [2/15], Loss: 0.5400\n",
      "Epoch [3/15], Loss: 0.6199\n",
      "Epoch [4/15], Loss: 0.5921\n",
      "Epoch [5/15], Loss: 0.6873\n",
      "Epoch [6/15], Loss: 0.6684\n",
      "Epoch [7/15], Loss: 0.7189\n",
      "Epoch [8/15], Loss: 0.5053\n",
      "Epoch [9/15], Loss: 0.5032\n",
      "Epoch [10/15], Loss: 0.6965\n",
      "Epoch [11/15], Loss: 0.5311\n",
      "Epoch [12/15], Loss: 0.5703\n",
      "Epoch [13/15], Loss: 0.5943\n",
      "Epoch [14/15], Loss: 0.5277\n",
      "Epoch [15/15], Loss: 0.4946\n"
     ]
    }
   ],
   "source": [
    "import torch\n",
    "import torch.nn as nn\n",
    "import torch.optim as optim\n",
    "from torchvision import datasets, transforms\n",
    "from torch.utils.data import DataLoader\n",
    "import torch.nn.functional as F\n",
    "\n",
    "# hyper parameters\n",
    "batch_size = 64\n",
    "latent_dim = 10\n",
    "epochs = 15\n",
    "\n",
    "transform = transforms.Compose([transforms.ToTensor(), transforms.Normalize((0.5,), (0.5,))])\n",
    "\n",
    "# MNIST data set\n",
    "train_dataset = datasets.MNIST(root='./data', train=True, transform=transform, download=True)\n",
    "\n",
    "# filter to only get 2 for instance\n",
    "# indices_label_1 = (train_dataset.targets == 4).nonzero(as_tuple=True)[0]\n",
    "# indices_label_2 = (train_dataset.targets == 5).nonzero(as_tuple=True)[0]\n",
    "\n",
    "# combine labels 4 & 5 for instance\n",
    "# combined_indices = torch.cat((indices_label_1, indices_label_2))\n",
    "# train_dataset.data = train_dataset.data[combined_indices]\n",
    "# train_dataset.targets = train_dataset.targets[combined_indices]\n",
    "\n",
    "train_loader = torch.utils.data.DataLoader(train_dataset, batch_size=64, shuffle=True)\n",
    "\n",
    "\n",
    "class Autoencoder(nn.Module):\n",
    "    def __init__(self):\n",
    "        super(Autoencoder, self).__init__()\n",
    "        self.encoder = nn.Sequential(\n",
    "            nn.Linear(28 * 28, 64),\n",
    "            nn.LeakyReLU(),\n",
    "            nn.Linear(64, 16),\n",
    "            nn.LeakyReLU(),\n",
    "            nn.Linear(16, latent_dim),\n",
    "            nn.LeakyReLU()\n",
    "        )\n",
    "        self.decoder = nn.Sequential(\n",
    "            nn.Linear(latent_dim, 16),\n",
    "            nn.LeakyReLU(),\n",
    "            nn.Linear(16, 64),\n",
    "            nn.LeakyReLU(),\n",
    "            nn.Linear(64, 28 * 28),\n",
    "            nn.Sigmoid()\n",
    "        )\n",
    "\n",
    "    def forward(self, x):\n",
    "        # x = x.view(batch_size, 1, 28, 28)\n",
    "        # x = self.convoluter(x)\n",
    "        x = x.view(x.size(0), -1)\n",
    "        x = self.encoder(x)\n",
    "        x = self.decoder(x)\n",
    "        return x\n",
    "\n",
    "\n",
    "\n",
    "autoencoder = Autoencoder()\n",
    "criterion = nn.MSELoss()\n",
    "criterion2 = nn.MSELoss()\n",
    "optimizer = optim.Adam(autoencoder.parameters(), lr=0.001)\n",
    "\n",
    "counter = 0\n",
    "\n",
    "# training\n",
    "for epoch in range(epochs):\n",
    "    for data in train_loader:\n",
    "        inputs, labels = data\n",
    "        optimizer.zero_grad()\n",
    "        \n",
    "        outputs = autoencoder(inputs)\n",
    "        # inputs.view(inputs.size(0), -1)\n",
    "        outputs2 = autoencoder.encoder(inputs.view(inputs.size(0), -1))\n",
    "        # label loss cirterion labels und outputs2 haben unterschiedliche dim\n",
    "        labels_t = F.one_hot(labels, num_classes=latent_dim)\n",
    "        labels_t = labels_t.to(torch.float)\n",
    "        loss2 = criterion2(outputs2, labels_t)\n",
    "\n",
    "        # one_hot_labels = F.one_hot(labels, num_classes=10)\n",
    "        loss1 = criterion(outputs, inputs.view(-1, 28 * 28))\n",
    "        loss = loss1 * 0.5 + loss2 * 20\n",
    "        loss.backward()\n",
    "        optimizer.step()\n",
    "\n",
    "    print(f'Epoch [{epoch + 1}/{epochs}], Loss: {loss.item():.4f}')\n",
    "\n",
    "# generate image\n",
    "import matplotlib.pyplot as plt\n",
    "\n",
    "with torch.no_grad():\n",
    "    noise = torch.randn(1, latent_dim)\n",
    "    generated_image = autoencoder.decoder(noise).view(28, 28).cpu().numpy()\n",
    "\n",
    "\n"
   ]
  },
  {
   "cell_type": "code",
   "execution_count": 6,
   "id": "927d1cb2",
   "metadata": {},
   "outputs": [
    {
     "data": {
      "image/png": "[encoded data removed]",
      "text/plain": [
       "<Figure size 576x576 with 10 Axes>"
      ]
     },
     "metadata": {
      "needs_background": "light"
     },
     "output_type": "display_data"
    }
   ],
   "source": [
    "images2 = []\n",
    "\n",
    "for i in range(10):\n",
    "    with torch.no_grad():\n",
    "        number = F.one_hot(torch.tensor([i]), num_classes=latent_dim)\n",
    "        number = number.to(torch.float)\n",
    "        number *= 0.75\n",
    "        generated_image = autoencoder.decoder(number).view(28, 28).cpu().numpy()\n",
    "        images2.append(generated_image)\n",
    "        \n",
    "plt.figure(figsize=(8, 8))\n",
    "for i in range(10):\n",
    "    plt.subplot(2, 5, i + 1)\n",
    "    plt.imshow(images2[i], cmap='gray')\n",
    "    plt.axis('off')\n",
    "\n",
    "plt.show()"
   ]
  },
  {
   "cell_type": "markdown",
   "id": "d62d69a3",
   "metadata": {},
   "source": [
    "## Test more sophisticated model"
   ]
  },
  {
   "cell_type": "code",
   "execution_count": 289,
   "id": "71b5db32",
   "metadata": {},
   "outputs": [
    {
     "name": "stdout",
     "output_type": "stream",
     "text": [
      "Running on the CPU\n",
      "Epoch [1/8], Loss: 0.4573\n",
      "Epoch [2/8], Loss: 0.4558\n",
      "Epoch [3/8], Loss: 0.4545\n",
      "Epoch [4/8], Loss: 0.4538\n",
      "Epoch [5/8], Loss: 0.4542\n",
      "Epoch [6/8], Loss: 0.4525\n",
      "Epoch [7/8], Loss: 0.4551\n",
      "Epoch [8/8], Loss: 0.4580\n"
     ]
    }
   ],
   "source": [
    "import torch\n",
    "import torch.nn as nn\n",
    "import torch.optim as optim\n",
    "from torchvision import datasets, transforms\n",
    "from torch.utils.data import DataLoader\n",
    "import torch.nn.functional as F\n",
    "\n",
    "#  configuring device\n",
    "if torch.cuda.is_available():\n",
    "  device = torch.device('cuda:0')\n",
    "  print('Running on the GPU')\n",
    "else:\n",
    "  device = torch.device('cpu')\n",
    "  print('Running on the CPU')\n",
    "\n",
    "\n",
    "batch_size = 64\n",
    "latent_dim = 10\n",
    "epochs = 8\n",
    "\n",
    "transform = transforms.Compose([transforms.ToTensor(), transforms.Normalize((0.5,), (0.5,))])\n",
    "train_dataset = datasets.MNIST(root='./data', train=True, transform=transform, download=True)\n",
    "\n",
    "indices_label_1 = (train_dataset.targets == 4).nonzero(as_tuple=True)[0]\n",
    "indices_label_2 = (train_dataset.targets == 3).nonzero(as_tuple=True)[0]\n",
    "\n",
    "train_dataset.data = train_dataset.data[indices_label_2] # alt combined_indices\n",
    "train_dataset.targets = train_dataset.targets[indices_label_2]\n",
    "# train_dataset.targets = train_dataset.targets[combined_indices]\n",
    "\n",
    "train_loader = torch.utils.data.DataLoader(train_dataset, batch_size=64, shuffle=True)\n",
    "\n",
    "\n",
    "\n",
    "\n",
    "class Autoencoder(nn.Module):\n",
    "    def __init__(self):\n",
    "        super(Autoencoder, self).__init__()\n",
    "        self.encoder = nn.Sequential(\n",
    "            nn.Conv2d(1, 8, kernel_size=3, padding=1),\n",
    "            nn.LeakyReLU(),\n",
    "            nn.MaxPool2d(2),\n",
    "            nn.Conv2d(8, 4, kernel_size=3, padding=1),\n",
    "            nn.LeakyReLU(),\n",
    "            nn.MaxPool3d((4, 2, 2)),\n",
    "            nn.Flatten(),\n",
    "            # 28/2 = 14 /2 = 7 \n",
    "            nn.Linear(7 * 7, 32),\n",
    "            nn.LeakyReLU(),\n",
    "            nn.Linear(32, latent_dim),\n",
    "            nn.Sigmoid()\n",
    "        )\n",
    "        self.decoder = nn.Sequential(\n",
    "            nn.Unflatten(1, (1, 2, 5)),\n",
    "            nn.ConvTranspose2d(1, 2, 2, stride=(2,3), padding=1),\n",
    "            nn.LeakyReLU(),\n",
    "            nn.ConvTranspose2d(2, 4, 2, stride=(2,3), padding=1), #6x33x4\n",
    "            nn.LeakyReLU(),\n",
    "            nn.Flatten(),\n",
    "            nn.Linear(4 * 33 * 2, 512),\n",
    "            nn.LeakyReLU(),\n",
    "            nn.Linear(512, 28 * 28),\n",
    "            nn.Sigmoid(),\n",
    "            nn.Unflatten(1, (1, 28, 28))\n",
    "        )\n",
    "\n",
    "    def forward(self, x):\n",
    "        x = self.encoder(x)\n",
    "        x = self.decoder(x)\n",
    "        return x\n",
    "\n",
    "\n",
    "autoencoder = Autoencoder()\n",
    "criterion = nn.MSELoss()\n",
    "criterion2 = nn.MSELoss()\n",
    "optimizer = optim.Adam(autoencoder.parameters(), lr=0.001)\n",
    "\n",
    "counter = 0\n",
    "\n",
    "# training\n",
    "for epoch in range(epochs):\n",
    "    for data in train_loader:\n",
    "        inputs, labels = data\n",
    "        optimizer.zero_grad()\n",
    "        \n",
    "        outputs = autoencoder(inputs)\n",
    "        loss1 = criterion(outputs, inputs)\n",
    "        \n",
    "        latent_vec = autoencoder.encoder(inputs)\n",
    "        labels_t = F.one_hot(labels, num_classes=latent_dim)\n",
    "        labels_t = labels_t.to(torch.float)\n",
    "        loss2 = criterion2(latent_vec, labels_t)\n",
    "        loss = loss1 * 0.5 + loss2 * 20\n",
    "        \n",
    "        loss.backward()\n",
    "        optimizer.step()\n",
    "\n",
    "    print(f'Epoch [{epoch + 1}/{epochs}], Loss: {loss.item():.4f}')\n"
   ]
  },
  {
   "cell_type": "code",
   "execution_count": 290,
   "id": "f52171cb",
   "metadata": {},
   "outputs": [
    {
     "data": {
      "image/png": "[encoded data removed]",
      "text/plain": [
       "<Figure size 432x288 with 1 Axes>"
      ]
     },
     "metadata": {
      "needs_background": "light"
     },
     "output_type": "display_data"
    }
   ],
   "source": [
    "import matplotlib.pyplot as plt\n",
    "\n",
    "with torch.no_grad():\n",
    "    noise = torch.randn(1, 10)\n",
    "    generated_image = autoencoder.decoder(noise).squeeze().cpu().numpy()\n",
    "\n",
    "plt.imshow(generated_image, cmap='gray')\n",
    "plt.axis('off')\n",
    "plt.show()"
   ]
  },
  {
   "cell_type": "markdown",
   "id": "d5868e81",
   "metadata": {},
   "source": [
    "## Generate new combinations of number profiles"
   ]
  },
  {
   "cell_type": "code",
   "execution_count": 281,
   "id": "d1f47a7f",
   "metadata": {},
   "outputs": [
    {
     "data": {
      "image/png": "[encoded data removed]",
      "text/plain": [
       "<Figure size 432x288 with 1 Axes>"
      ]
     },
     "metadata": {
      "needs_background": "light"
     },
     "output_type": "display_data"
    }
   ],
   "source": [
    "with torch.no_grad():\n",
    "    tensor_value = torch.tensor([[-0.25, -0.25, -0.25, 1, -0.25, -0.25, -0.25, -0.25, 1, 10]])\n",
    "    generated_image = autoencoder.decoder(tensor_value).view(28, 28).cpu().numpy()\n",
    "\n",
    "plt.imshow(generated_image, cmap='gray')\n",
    "plt.axis('off')\n",
    "plt.show()"
   ]
  },
  {
   "cell_type": "code",
   "execution_count": 261,
   "id": "9d23daaf",
   "metadata": {},
   "outputs": [
    {
     "data": {
      "image/png": "[encoded data removed]",
      "text/plain": [
       "<Figure size 576x576 with 10 Axes>"
      ]
     },
     "metadata": {
      "needs_background": "light"
     },
     "output_type": "display_data"
    }
   ],
   "source": [
    "images2 = []\n",
    "\n",
    "for i in range(10):\n",
    "    with torch.no_grad():\n",
    "        number = F.one_hot(torch.tensor([i]), num_classes=latent_dim)\n",
    "        number *= 2\n",
    "        number = torch.where(number == 0, torch.tensor(-0.25), number)\n",
    "        number = number.to(torch.float)\n",
    "        \n",
    "        \n",
    "        generated_image = autoencoder.decoder(number).view(28, 28).cpu().numpy()\n",
    "        images2.append(generated_image)\n",
    "        \n",
    "plt.figure(figsize=(8, 8))\n",
    "for i in range(10):\n",
    "    plt.subplot(2, 5, i + 1) \n",
    "    plt.imshow(images2[i], cmap='gray')\n",
    "    plt.axis('off')\n",
    "\n",
    "plt.show()"
   ]
  },
  {
   "cell_type": "code",
   "execution_count": 279,
   "id": "d0461372",
   "metadata": {},
   "outputs": [],
   "source": [
    "torch.save(autoencoder.state_dict(), 'mein_modell.pth')\n",
    "# autoencoder.load_state_dict(torch.load('mein_modell.pth'))"
   ]
  },
  {
   "cell_type": "code",
   "execution_count": 280,
   "id": "b7240215",
   "metadata": {},
   "outputs": [
    {
     "data": {
      "text/plain": [
       "<All keys matched successfully>"
      ]
     },
     "execution_count": 280,
     "metadata": {},
     "output_type": "execute_result"
    }
   ],
   "source": [
    "autoencoder.load_state_dict(torch.load('mein_modell.pth'))"
   ]
  },
  {
   "cell_type": "code",
   "execution_count": null,
   "id": "fbbbc958",
   "metadata": {},
   "outputs": [],
   "source": []
  }
 ],
 "metadata": {
  "kernelspec": {
   "display_name": "Python 3 (ipykernel)",
   "language": "python",
   "name": "python3"
  },
  "language_info": {
   "codemirror_mode": {
    "name": "ipython",
    "version": 3
   },
   "file_extension": ".py",
   "mimetype": "text/x-python",
   "name": "python",
   "nbconvert_exporter": "python",
   "pygments_lexer": "ipython3",
   "version": "3.9.7"
  }
 },
 "nbformat": 4,
 "nbformat_minor": 5
}
